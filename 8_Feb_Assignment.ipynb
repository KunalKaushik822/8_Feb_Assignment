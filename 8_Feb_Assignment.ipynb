{
 "cells": [
  {
   "cell_type": "code",
   "execution_count": 1,
   "id": "4588e0c2-cd16-4107-80aa-a8909003b30b",
   "metadata": {},
   "outputs": [],
   "source": [
    "#Q1. What is Abstraction in OOPs? Explain with an example."
   ]
  },
  {
   "cell_type": "code",
   "execution_count": 7,
   "id": "81db28f3-21af-46ae-9ded-cda6d61e2cfe",
   "metadata": {},
   "outputs": [
    {
     "ename": "TypeError",
     "evalue": "Can't instantiate abstract class Circle with abstract method perimeter",
     "output_type": "error",
     "traceback": [
      "\u001b[0;31m---------------------------------------------------------------------------\u001b[0m",
      "\u001b[0;31mTypeError\u001b[0m                                 Traceback (most recent call last)",
      "Cell \u001b[0;32mIn[7], line 46\u001b[0m\n\u001b[1;32m     43\u001b[0m         \u001b[38;5;28;01mreturn\u001b[39;00m \u001b[38;5;241m2\u001b[39m \u001b[38;5;241m*\u001b[39m\u001b[38;5;241m3.14\u001b[39m\u001b[38;5;241m*\u001b[39m\u001b[38;5;28mself\u001b[39m\u001b[38;5;241m.\u001b[39mradius\n\u001b[1;32m     45\u001b[0m rectangle \u001b[38;5;241m=\u001b[39m Rectangle(\u001b[38;5;124m\"\u001b[39m\u001b[38;5;124mRectangle\u001b[39m\u001b[38;5;124m\"\u001b[39m,\u001b[38;5;241m5\u001b[39m,\u001b[38;5;241m4\u001b[39m)\n\u001b[0;32m---> 46\u001b[0m circle \u001b[38;5;241m=\u001b[39m \u001b[43mCircle\u001b[49m\u001b[43m(\u001b[49m\u001b[38;5;124;43m\"\u001b[39;49m\u001b[38;5;124;43mCircle\u001b[39;49m\u001b[38;5;124;43m\"\u001b[39;49m\u001b[43m,\u001b[49m\u001b[43m \u001b[49m\u001b[38;5;241;43m3\u001b[39;49m\u001b[43m)\u001b[49m\n\u001b[1;32m     49\u001b[0m \u001b[38;5;28mprint\u001b[39m(rectangle\u001b[38;5;241m.\u001b[39marea())  \u001b[38;5;66;03m# Output: 20\u001b[39;00m\n\u001b[1;32m     50\u001b[0m \u001b[38;5;28mprint\u001b[39m(rectangle\u001b[38;5;241m.\u001b[39mperimeter())  \u001b[38;5;66;03m# Output: 18\u001b[39;00m\n",
      "\u001b[0;31mTypeError\u001b[0m: Can't instantiate abstract class Circle with abstract method perimeter"
     ]
    }
   ],
   "source": [
    "# In Object-Oriented Programming(OOP), abstraction is a fundamental concept that involes focusing on the essential characteristics of an object while irrelevent details. It allows developers to simplify complex systems by modelling them at higher levels of abstraction.\n",
    "\n",
    "# Abstraction in OOP can be achieved through the use of abstract classes and interfaces. An abstract class is a class that cannot that cannot be instantiated on its own and may contain abstract methods,which are methods without implementation. Interfaces, on the other hand, define a contract for classes that implement them, specifying a set of methods that those classes must provide.\n",
    "\n",
    "# Here's an example of abstraction in Python:\n",
    "\n",
    "from abc import ABC, abstractmethod\n",
    "\n",
    "class Shape(ABC):\n",
    "    \n",
    "    def __init__(self, name):\n",
    "        self.name = name\n",
    "        \n",
    "    @abstractmethod\n",
    "    def area(self):\n",
    "        pass\n",
    "    \n",
    "    @abstractmethod\n",
    "    def perimeter(self):\n",
    "        pass\n",
    "    \n",
    "class Rectangle(Shape):\n",
    "    def __init__(self, name,width, height):\n",
    "        super().__init__(name)\n",
    "        self.width = width\n",
    "        self.height = height\n",
    "        \n",
    "    def area(self):\n",
    "        return self.width * self.height\n",
    "    \n",
    "    def perimeter(self):\n",
    "        return 2*(self.width + self.height)\n",
    "    \n",
    "class Circle(Shape):\n",
    "    def __init__(self, name, radius):\n",
    "        super().__init__(name)\n",
    "        self.radius = radius\n",
    "        \n",
    "    def area(self):\n",
    "        return 3.14 * self.radius**2\n",
    "    \n",
    "    def parimeter(self):\n",
    "        return 2 *3.14*self.radius\n",
    "    \n",
    "rectangle = Rectangle(\"Rectangle\",5,4)\n",
    "circle = Circle(\"Circle\", 3)\n",
    "\n",
    "\n",
    "print(rectangle.area())  # Output: 20\n",
    "print(rectangle.perimeter())  # Output: 18\n",
    "print(circle.area())  # Output: 28.26 (approximately)\n",
    "print(circle.perimeter())  # Output: 18.84 (approximately)"
   ]
  },
  {
   "cell_type": "code",
   "execution_count": 5,
   "id": "f804eb24-60f8-42dd-8b88-799d43ec77f1",
   "metadata": {},
   "outputs": [
    {
     "name": "stdout",
     "output_type": "stream",
     "text": [
      "20\n",
      "18\n",
      "28.26\n",
      "18.84\n"
     ]
    }
   ],
   "source": [
    "from abc import ABC, abstractmethod\n",
    "\n",
    "# Abstract class representing a Shape\n",
    "class Shape(ABC):\n",
    "    def __init__(self, name):\n",
    "        self.name = name\n",
    "\n",
    "    @abstractmethod\n",
    "    def area(self):\n",
    "        pass\n",
    "\n",
    "    @abstractmethod\n",
    "    def perimeter(self):\n",
    "        pass\n",
    "\n",
    "# Concrete subclass representing a Rectangle\n",
    "class Rectangle(Shape):\n",
    "    def __init__(self, name, width, height):\n",
    "        super().__init__(name)\n",
    "        self.width = width\n",
    "        self.height = height\n",
    "\n",
    "    def area(self):\n",
    "        return self.width * self.height\n",
    "\n",
    "    def perimeter(self):\n",
    "        return 2 * (self.width + self.height)\n",
    "\n",
    "# Concrete subclass representing a Circle\n",
    "class Circle(Shape):\n",
    "    def __init__(self, name, radius):\n",
    "        super().__init__(name)\n",
    "        self.radius = radius\n",
    "\n",
    "    def area(self):\n",
    "        return 3.14 * self.radius ** 2\n",
    "\n",
    "    def perimeter(self):\n",
    "        return 2 * 3.14 * self.radius\n",
    "\n",
    "# Create instances of concrete classes\n",
    "rectangle = Rectangle(\"Rectangle\", 5, 4)\n",
    "circle = Circle(\"Circle\", 3)\n",
    "\n",
    "# Accessing methods through abstraction\n",
    "print(rectangle.area())  # Output: 20\n",
    "print(rectangle.perimeter())  # Output: 18\n",
    "print(circle.area())  # Output: 28.26 (approximately)\n",
    "print(circle.perimeter())  # Output: 18.84 (approximately)\n"
   ]
  },
  {
   "cell_type": "code",
   "execution_count": 8,
   "id": "f5d93210-9220-4e6f-8603-b2b13b1c8600",
   "metadata": {},
   "outputs": [],
   "source": [
    "# Q2. Differentiate between Abstraction and Encapsulation. Explain with an example."
   ]
  },
  {
   "cell_type": "code",
   "execution_count": 9,
   "id": "3a7f6da0-382e-412a-8fa6-ad524dd66f14",
   "metadata": {},
   "outputs": [
    {
     "data": {
      "text/plain": [
       "\"Abstraction and encapsulation are two fundamental concepts in object-oriented programming (OOP), but they serve different purposes.\\n\\nAbstraction:\\n\\nAbstraction involves hiding the complex implementation details and showing only the essential features of an object. It focuses on what an object does rather than how it does it.\\nAbstraction is achieved through abstract classes and interfaces in OOP, where you define a blueprint of a class without providing the implementation details for its methods.\\nThe main goal of abstraction is to simplify complex systems by modeling them at higher levels of abstraction, making it easier to understand and manage.\\nExamples of abstraction include abstract classes, interfaces, and defining methods without implementation details.\\nEncapsulation:\\n\\nEncapsulation involves bundling the data (attributes) and methods (functions) that operate on the data into a single unit, called a class. It hides the internal state of an object and restricts direct access to it from outside the class.\\nEncapsulation helps in achieving data hiding, where the internal details of an object are hidden and can only be accessed through well-defined interfaces.\\nThe main goal of encapsulation is to ensure data integrity and to prevent unintended access or modification of the object's state.\\nExamples of encapsulation include defining private attributes and providing public methods to access and modify those attributes.\\nNow, let's illustrate the difference between abstraction and encapsulation with an example in Python:\""
      ]
     },
     "execution_count": 9,
     "metadata": {},
     "output_type": "execute_result"
    }
   ],
   "source": [
    "\"\"\"Abstraction and encapsulation are two fundamental concepts in object-oriented programming (OOP), but they serve different purposes.\n",
    "\n",
    "Abstraction:\n",
    "\n",
    "Abstraction involves hiding the complex implementation details and showing only the essential features of an object. It focuses on what an object does rather than how it does it.\n",
    "Abstraction is achieved through abstract classes and interfaces in OOP, where you define a blueprint of a class without providing the implementation details for its methods.\n",
    "The main goal of abstraction is to simplify complex systems by modeling them at higher levels of abstraction, making it easier to understand and manage.\n",
    "Examples of abstraction include abstract classes, interfaces, and defining methods without implementation details.\n",
    "Encapsulation:\n",
    "\n",
    "Encapsulation involves bundling the data (attributes) and methods (functions) that operate on the data into a single unit, called a class. It hides the internal state of an object and restricts direct access to it from outside the class.\n",
    "Encapsulation helps in achieving data hiding, where the internal details of an object are hidden and can only be accessed through well-defined interfaces.\n",
    "The main goal of encapsulation is to ensure data integrity and to prevent unintended access or modification of the object's state.\n",
    "Examples of encapsulation include defining private attributes and providing public methods to access and modify those attributes.\n",
    "Now, let's illustrate the difference between abstraction and encapsulation with an example in Python:\"\"\""
   ]
  },
  {
   "cell_type": "code",
   "execution_count": 13,
   "id": "ee693eae-e46c-4e33-9759-c4ec346ffdba",
   "metadata": {},
   "outputs": [
    {
     "name": "stdout",
     "output_type": "stream",
     "text": [
      "Toyota is moving.\n",
      "Toyota is moving.\n",
      "Toyota is moving.\n",
      "Toyota is moving.\n",
      "Toyota is moving.\n",
      "Toyota is moving.\n",
      "Toyota is moving.\n",
      "Toyota is moving.\n",
      "Toyota is moving.\n",
      "Toyota is moving.\n"
     ]
    },
    {
     "ename": "AttributeError",
     "evalue": "'Car' object has no attribute '__fuel'",
     "output_type": "error",
     "traceback": [
      "\u001b[0;31m---------------------------------------------------------------------------\u001b[0m",
      "\u001b[0;31mAttributeError\u001b[0m                            Traceback (most recent call last)",
      "Cell \u001b[0;32mIn[13], line 42\u001b[0m\n\u001b[1;32m     39\u001b[0m car\u001b[38;5;241m.\u001b[39mmove()  \u001b[38;5;66;03m# Output: Out of fuel. Cannot move.\u001b[39;00m\n\u001b[1;32m     41\u001b[0m \u001b[38;5;66;03m# Attempting direct access of private attribute (encapsulation)\u001b[39;00m\n\u001b[0;32m---> 42\u001b[0m \u001b[38;5;28mprint\u001b[39m(\u001b[43mcar\u001b[49m\u001b[38;5;241;43m.\u001b[39;49m\u001b[43m__fuel\u001b[49m)  \u001b[38;5;66;03m# AttributeError: 'Car' object has no attribute '__fuel'            \u001b[39;00m\n",
      "\u001b[0;31mAttributeError\u001b[0m: 'Car' object has no attribute '__fuel'"
     ]
    }
   ],
   "source": [
    "from abc import ABC, abstractmethod\n",
    "\n",
    "class Vehicle(ABC):\n",
    "    def __init__(self, name):\n",
    "        self.name =name\n",
    "        \n",
    "    @abstractmethod\n",
    "    def move(self):\n",
    "        pass\n",
    "    \n",
    "class Car(Vehicle):\n",
    "    def __init__(self,name,fuel):\n",
    "        super().__init__(name)\n",
    "        self.__fuel= fuel #Private attribute\n",
    "        \n",
    "    def move(self):\n",
    "        if self.__fuel>0:\n",
    "            print(f\"{self.name} is moving.\")\n",
    "            self.__fuel -= 1\n",
    "        else:\n",
    "            print(\"Out of fuel. Cannot move.\")\n",
    "            \n",
    "    def refuel(self,amount):\n",
    "        self.__fuel += amount\n",
    "        \n",
    "car = Car(\"Toyota\", 10)\n",
    "\n",
    "\n",
    "# Accessing methods through encapsulation\n",
    "car.move()  # Output: Toyota is moving.\n",
    "car.move()  # Output: Toyota is moving.\n",
    "car.move()  # Output: Toyota is moving.\n",
    "car.move()  # Output: Toyota is moving.\n",
    "car.move()  # Output: Toyota is moving.\n",
    "car.move()  # Output: Toyota is moving.\n",
    "car.move()  # Output: Toyota is moving.\n",
    "car.move()  # Output: Toyota is moving.\n",
    "car.move()  # Output: Toyota is moving.\n",
    "car.move()  # Output: Out of fuel. Cannot move.\n",
    "\n",
    "# Attempting direct access of private attribute (encapsulation)\n",
    "print(car.__fuel)  # AttributeError: 'Car' object has no attribute '__fuel'            "
   ]
  },
  {
   "cell_type": "code",
   "execution_count": 19,
   "id": "6fa2aae8-2d7d-43f2-9eab-50b219bb12b0",
   "metadata": {},
   "outputs": [
    {
     "ename": "SyntaxError",
     "evalue": "incomplete input (1680203842.py, line 23)",
     "output_type": "error",
     "traceback": [
      "\u001b[0;36m  Cell \u001b[0;32mIn[19], line 23\u001b[0;36m\u001b[0m\n\u001b[0;31m    \u001b[0m\n\u001b[0m    ^\u001b[0m\n\u001b[0;31mSyntaxError\u001b[0m\u001b[0;31m:\u001b[0m incomplete input\n"
     ]
    }
   ],
   "source": [
    "#Q3. What is abc module in python? Why is it used?\n",
    "\n",
    "# The abc module in Python stands for \"Abstract Base Classes.\" It provides tools for creating abstract base classes (ABCs) in Python. Abstract base classes are classes that are designed to be subclassed but not instantiated directly. They define a common interface for a group of related classes.\n",
    "\n",
    "# The abc module is used primarily for two purposes:\n",
    "\n",
    "# Defining Abstract Base Classes (ABCs):\n",
    "\n",
    "# The abc module provides the ABC class and the abstractmethod decorator, which are used to define abstract methods within a class. Abstract methods are methods that must be implemented by concrete subclasses but are not implemented in the abstract base class itself.\n",
    "# By defining abstract base classes, you can enforce a common interface across multiple subclasses, ensuring that certain methods are implemented consistently.\n",
    "# Enforcing Interfaces:\n",
    "\n",
    "# Abstract base classes can be used to enforce interfaces in Python. An interface defines a set of methods that must be implemented by any class that claims to conform to that interface. By defining abstract methods within an abstract base class, you can specify the interface that subclasses must adhere to.\n",
    "# Attempting to instantiate a class that does not implement all the abstract methods of its parent abstract base class will result in a TypeError at runtime.\n",
    "# Example:\n",
    "\n",
    "\n",
    "from abc import ABC, abstractmethod\n",
    "\n",
    "class Shape:\n",
    "\n",
    "\n",
    "\n"
   ]
  },
  {
   "cell_type": "code",
   "execution_count": 20,
   "id": "40336e12-a141-400b-9b34-06ff34030d59",
   "metadata": {},
   "outputs": [
    {
     "data": {
      "text/plain": [
       "'It\\'s a foundational concept in object-oriented programming (OOP) that encapsulates data (attributes) and operations (methods) into self-contained entities called classes.\\nThe key is to expose essential details while hiding internal complexities, simplifying code by focusing on \"what\" is done rather than \"how.\"\\nTechniques for Data Abstraction in Python:\\n\\nClasses:\\n\\nCreate blueprints for objects using the class keyword.\\n\\nDefine attributes using instance variables to represent object data.\\n\\nImplement methods (functions within a class) to encapsulate operations.\\n\\nExample:\\n\\nPython\\nclass BankAccount:\\n    def __init__(self, name, balance):\\n        self.name = name\\n        self.balance = balance\\n\\n    def deposit(self, amount):\\n        self.balance += amount\\n\\n    def withdraw(self, amount):\\n        if self.balance - amount >= 0:\\n            self.balance -= amount\\n        else:\\n            print(\"Insufficient funds\")\\nUse code with caution. Learn more\\nModules:\\n\\nOrganize larger projects into logical units using the import statement.\\n\\nCreate reusable modules to reduce code redundancy and promote modularity.\\n\\nExample: A separate module to handle complex mathematical calculations: '"
      ]
     },
     "execution_count": 20,
     "metadata": {},
     "output_type": "execute_result"
    }
   ],
   "source": [
    "#Q4. How can we achieve data abstraction?\n",
    "\n",
    "\"\"\"It's a foundational concept in object-oriented programming (OOP) that encapsulates data (attributes) and operations (methods) into self-contained entities called classes.\n",
    "The key is to expose essential details while hiding internal complexities, simplifying code by focusing on \"what\" is done rather than \"how.\"\n",
    "Techniques for Data Abstraction in Python:\n",
    "\n",
    "Classes:\n",
    "\n",
    "Create blueprints for objects using the class keyword.\n",
    "\n",
    "Define attributes using instance variables to represent object data.\n",
    "\n",
    "Implement methods (functions within a class) to encapsulate operations.\n",
    "\n",
    "Example:\n",
    "\n",
    "Python\n",
    "class BankAccount:\n",
    "    def __init__(self, name, balance):\n",
    "        self.name = name\n",
    "        self.balance = balance\n",
    "\n",
    "    def deposit(self, amount):\n",
    "        self.balance += amount\n",
    "\n",
    "    def withdraw(self, amount):\n",
    "        if self.balance - amount >= 0:\n",
    "            self.balance -= amount\n",
    "        else:\n",
    "            print(\"Insufficient funds\")\n",
    "Use code with caution. Learn more\n",
    "Modules:\n",
    "\n",
    "Organize larger projects into logical units using the import statement.\n",
    "\n",
    "Create reusable modules to reduce code redundancy and promote modularity.\n",
    "\n",
    "Example: A separate module to handle complex mathematical calculations: \"\"\""
   ]
  },
  {
   "cell_type": "code",
   "execution_count": 21,
   "id": "9be2166a-afc0-461c-b5d2-7eb896774ba4",
   "metadata": {},
   "outputs": [],
   "source": [
    "from abc import ABC, abstractmethod\n",
    "\n",
    "class PaymentProcessor(ABC):\n",
    "    @abstractmethod\n",
    "    def process_payment(self, amount, card_info):\n",
    "        pass\n",
    "\n",
    "class PayPalPaymentProcessor(PaymentProcessor):\n",
    "    def process_payment(self, amount, card_info):\n",
    "        # Implement PayPal-specific payment processing logic\n",
    "        pass\n",
    "\n",
    "class StripePaymentProcessor(PaymentProcessor):\n",
    "    def process_payment(self, amount, card_info):\n",
    "        # Implement Stripe-specific payment processing logic\n",
    "        pass\n"
   ]
  },
  {
   "cell_type": "code",
   "execution_count": 23,
   "id": "b5c317c5-aa75-4fb2-825c-36269931d03e",
   "metadata": {},
   "outputs": [
    {
     "name": "stdout",
     "output_type": "stream",
     "text": [
      "25\n"
     ]
    }
   ],
   "source": [
    "# Q5. Can we create an instance of an abstract class? Explain your answer.\n",
    "\n",
    "# No, in Python and most object-oriented languages, you cannot directly create an instance of an abstract class. Here's why:\n",
    "\n",
    "# Reasoning:\n",
    "\n",
    "# Incomplete Definition: An abstract class intentionally contains abstract methods, which lack implementation details. These methods act as placeholders, requiring concrete subclasses to provide their specific behavior. If you attempted to create an instance of the abstract class directly, you wouldn't know how to execute these unimplemented methods, leading to errors.\n",
    "\n",
    "# Conceptual Design: The very purpose of an abstract class is to define a common blueprint for related concrete classes that inherit and specialize its functionality. It represents a more general concept or interface rather than a specific, usable entity. Instantiating such a concept wouldn't make practical sense.\n",
    "\n",
    "from abc import ABC, abstractmethod\n",
    "\n",
    "class Shape(ABC):\n",
    "    @abstractmethod\n",
    "    def get_area(self):\n",
    "        pass\n",
    "\n",
    "class Square(Shape):\n",
    "    def __init__(self, side):\n",
    "        self.side = side\n",
    "\n",
    "    def get_area(self):\n",
    "        return self.side * self.side\n",
    "\n",
    "# You cannot create an instance of Shape, but you can create a Square:\n",
    "square = Square(5)\n",
    "print(square.get_area())  # Output: 25\n"
   ]
  },
  {
   "cell_type": "code",
   "execution_count": null,
   "id": "58f44004-d775-4c69-87f8-74cdef73a739",
   "metadata": {},
   "outputs": [],
   "source": []
  }
 ],
 "metadata": {
  "kernelspec": {
   "display_name": "Python 3 (ipykernel)",
   "language": "python",
   "name": "python3"
  },
  "language_info": {
   "codemirror_mode": {
    "name": "ipython",
    "version": 3
   },
   "file_extension": ".py",
   "mimetype": "text/x-python",
   "name": "python",
   "nbconvert_exporter": "python",
   "pygments_lexer": "ipython3",
   "version": "3.10.8"
  }
 },
 "nbformat": 4,
 "nbformat_minor": 5
}
